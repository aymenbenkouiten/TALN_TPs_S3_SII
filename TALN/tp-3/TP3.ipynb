{
 "cells": [
  {
   "cell_type": "code",
   "execution_count": null,
   "metadata": {},
   "outputs": [],
   "source": [
    "def make_verb_upper(text, pos):\n",
    "    return text.upper() if pos == \"VERB\" else text"
   ]
  },
  {
   "cell_type": "code",
   "execution_count": null,
   "metadata": {},
   "outputs": [],
   "source": [
    "import spacy\n",
    "\n",
    "nlp = spacy.load(\"en_core_web_sm\")\n",
    "doc = nlp(u\"Cars ran swiftly and walked slowly.\")\n",
    "text = \"\".join(make_verb_upper(word.text_with_ws, word.pos_) for word in doc)\n",
    "print(text)\n",
    "for token in doc:\n",
    "    print((token.text, token.pos_))"
   ]
  },
  {
   "cell_type": "code",
   "execution_count": null,
   "metadata": {},
   "outputs": [],
   "source": [
    "import pandas as pd\n",
    "\n",
    "harry_potter = open(\"HP1.txt\").read()\n",
    "hp = nlp(harry_potter)\n",
    "hpSents = list(hp.sents)\n",
    "hpSentsLength = [len(sent) for sent in hpSents]\n",
    "[sent for sent in hpSents if len(sent)==max(hpSentsLength)]\n",
    "hpPOS = pd.Series(hp.count_by(spacy.attrs.POS))/len(hp)\n",
    "tagDict = {w.pos: w.pos_ for w in hp}\n",
    "hpPos = pd.Series(hp.count_by(spacy.attrs.POS))/len(hp)\n",
    "df = pd.DataFrame([hpPOS], index=[\"Harry Potter\"])\n",
    "df.columns = [tagDict[column] for column in df.columns] \n",
    "df.T.plot(kind=\"bar\")"
   ]
  },
  {
   "cell_type": "code",
   "execution_count": null,
   "metadata": {},
   "outputs": [],
   "source": [
    "from collections import Counter\n",
    "hpAdjs = [w for w in hp if w.pos_ == \"PRON\"]\n",
    "Counter([w.text.strip() for w in hpAdjs]).most_common(10)"
   ]
  },
  {
   "cell_type": "code",
   "execution_count": null,
   "metadata": {},
   "outputs": [],
   "source": [
    "sent_0 = nlp(u\"Donald Trump visited cars at the government headquarters in France today.\")\n",
    "for token in sent_0:\n",
    "    print(token.text, token.ent_type_)\n",
    "    \n",
    "for ent in sent_0.ents:\n",
    "    print(ent.text, ent.label_)"
   ]
  },
  {
   "cell_type": "markdown",
   "metadata": {},
   "source": [
    "A pos tagger to recognize the entity \"USTHB\" and \"LRIA\" as ORG"
   ]
  },
  {
   "cell_type": "code",
   "execution_count": 1,
   "metadata": {},
   "outputs": [],
   "source": [
    "from spacy.training.example import Example\n",
    "import random \n",
    "import spacy"
   ]
  },
  {
   "cell_type": "code",
   "execution_count": 2,
   "metadata": {},
   "outputs": [],
   "source": [
    "TRAIN_DATA = [\n",
    "    (\"Cars are great. They're fast.\", {\"tags\": [\"NSS\", \"VERB\", \"ADJ\", \"PUNCT\", \"PRON\", \"VERB\", \"ADV\", \"PUNCT\"]}),\n",
    "    (\"Cats and dogs are pets.\", {\"tags\": [\"NSS\", \"CCONJ\", \"NSS\", \"VERB\", \"NOUN\", \"PUNCT\"]}),\n",
    "    (\"The doors of the house are red.\", {\"tags\": [\"DET\", \"NSS\", \"ADP\", \"DET\", \"NOUN\", \"VERB\", \"ADJ\", \"PUNCT\"]}),\n",
    "    (\"I have pillows on my bed.\", {\"tags\": [\"PRON\", \"VERB\", \"NSS\", \"ADP\", \"PRON\", \"NOUN\", \"PUNCT\"]}),\n",
    "    (\"The kids play with toys.\", {\"tags\": [\"DET\", \"NSS\", \"VERB\", \"ADP\", \"NOUN\", \"PUNCT\"]}),\n",
    "    (\"These books belong to the library.\", {\"tags\": [\"DET\", \"NSS\", \"VERB\", \"ADP\", \"DET\", \"NOUN\", \"PUNCT\"]}),\n",
    "    (\"The girls and boys are playing.\", {\"tags\": [\"DET\", \"NSS\", \"CCONJ\", \"NSS\", \"VERB\", \"VERB\", \"PUNCT\"]}),\n",
    "    (\"They brought pizzas for us.\", {\"tags\": [\"PRON\", \"VERB\", \"NSS\", \"ADP\", \"PRON\", \"PUNCT\"]}),\n",
    "    (\"The windows in the house are large.\", {\"tags\": [\"DET\", \"NSS\", \"ADP\", \"DET\", \"NOUN\", \"VERB\", \"ADJ\", \"PUNCT\"]}),\n",
    "    (\"The trees and flowers look beautiful.\", {\"tags\": [\"DET\", \"NSS\", \"CCONJ\", \"NSS\", \"VERB\", \"ADJ\", \"PUNCT\"]}),\n",
    "    (\"These chairs are comfortable.\", {\"tags\": [\"DET\", \"NSS\", \"VERB\", \"ADJ\", \"PUNCT\"]}),\n",
    "    (\"She bought dresses for the party.\", {\"tags\": [\"PRON\", \"VERB\", \"NSS\", \"ADP\", \"DET\", \"NOUN\", \"PUNCT\"]}),\n",
    "    (\"The workers are on strike.\", {\"tags\": [\"DET\", \"NOUN\", \"VERB\", \"ADP\", \"NOUN\", \"PUNCT\"]}),\n",
    "    (\"The apples and oranges are juicy.\", {\"tags\": [\"DET\", \"NSS\", \"CCONJ\", \"NSS\", \"VERB\", \"ADJ\", \"PUNCT\"]}),\n",
    "    (\"We need pencils and erasers.\", {\"tags\": [\"PRON\", \"VERB\", \"NSS\", \"CCONJ\", \"NSS\", \"PUNCT\"]}),\n",
    "    (\"These cars have good mileage.\", {\"tags\": [\"DET\", \"NSS\", \"VERB\", \"ADJ\", \"NOUN\", \"PUNCT\"]}),\n",
    "    (\"The hats and scarves are in the closet.\", {\"tags\": [\"DET\", \"NSS\", \"CCONJ\", \"NSS\", \"VERB\", \"ADP\", \"DET\", \"NOUN\", \"PUNCT\"]}),\n",
    "    (\"She collects stamps and coins.\", {\"tags\": [\"PRON\", \"VERB\", \"NSS\", \"CCONJ\", \"NSS\", \"PUNCT\"]}),\n",
    "    (\"The students passed their exams.\", {\"tags\": [\"DET\", \"NOUN\", \"VERB\", \"DET\", \"NOUN\", \"PUNCT\"]}),\n",
    "    (\"The doors and windows are locked.\", {\"tags\": [\"DET\", \"NSS\", \"CCONJ\", \"NSS\", \"VERB\", \"VERB\", \"PUNCT\"]}),\n",
    "]"
   ]
  },
  {
   "cell_type": "code",
   "execution_count": 3,
   "metadata": {},
   "outputs": [],
   "source": [
    "nlp = spacy.blank(\"en\")\n",
    "pos_tagger = nlp.add_pipe(\"tagger\")\n",
    "\n",
    "tags=[\"AUX\", \"PUNCT\", \"PROPN\", \"ADJ\", \"ADP\", \"NSS\", \"VERB\", \"PART\", \"DET\", \"NOUN\", \"ADV\",\"CCONJ\", \"PRON\",\"NUM\"]\n",
    "for tag in tags:\n",
    "    pos_tagger.add_label(tag)\n",
    "other_pipes = [pipe for pipe in nlp.pipe_names if pipe != 'tagger']"
   ]
  },
  {
   "cell_type": "code",
   "execution_count": 4,
   "metadata": {},
   "outputs": [],
   "source": [
    "with nlp.disable_pipes(*other_pipes):\n",
    "    optimizer = nlp.begin_training()\n",
    "    for i in range(10):\n",
    "        random.shuffle(TRAIN_DATA)\n",
    "        for text, annotation in TRAIN_DATA:\n",
    "            doc = nlp.make_doc(text)\n",
    "            example = Example.from_dict(doc, annotation)\n",
    "            nlp.update([example], drop=0.5, losses={})"
   ]
  },
  {
   "cell_type": "code",
   "execution_count": 6,
   "metadata": {},
   "outputs": [
    {
     "name": "stdout",
     "output_type": "stream",
     "text": [
      "Cats NSS\n",
      "are VERB\n",
      "great ADJ\n",
      ". PUNCT\n",
      "They PRON\n",
      "'re VERB\n",
      "fast ADJ\n",
      ". PUNCT\n"
     ]
    }
   ],
   "source": [
    "doc = nlp(\"Cats are great. They're fast.\")\n",
    "for token in doc:\n",
    "    print(token.text, token.tag_)"
   ]
  },
  {
   "cell_type": "markdown",
   "metadata": {},
   "source": [
    "A ner tagger to recognize new entity label called \"COLOR\""
   ]
  },
  {
   "cell_type": "code",
   "execution_count": 1,
   "metadata": {},
   "outputs": [],
   "source": [
    "import random\n",
    "import spacy\n",
    "from spacy.training import Example"
   ]
  },
  {
   "cell_type": "code",
   "execution_count": 5,
   "metadata": {},
   "outputs": [],
   "source": [
    "TRAIN_DATA2 = [\n",
    "    (\"The sky is blue.\", {\"entities\": [(11, 15, \"COLOR\")]}),\n",
    "    (\"She is wearing a beautiful red dress.\", {\"entities\": [(27, 30, \"COLOR\")]}),\n",
    "    (\"The grass in the park is a vibrant green.\", {\"entities\": [(35, 40, \"COLOR\")]}),\n",
    "    (\"The sunset painted the sky with shades of orange and pink.\", {\"entities\": [(42, 48, \"COLOR\"), (53, 57, \"COLOR\")]}),\n",
    "    (\"The car was a sleek black sports model.\", {\"entities\": [(20, 25, \"COLOR\")]}),\n",
    "    (\"The flowers in the garden are various shades of purple.\", {\"entities\": [(48, 54, \"COLOR\")]}),\n",
    "    (\"The ocean water was a deep, dark blue.\", {\"entities\": [(28, 37, \"COLOR\")]}),\n",
    "    (\"The leaves in the fall turn a beautiful golden color.\", {\"entities\": [(40, 46, \"COLOR\")]}),\n",
    "    (\"Her hair is a natural shade of brown.\", {\"entities\": [(31, 36, \"COLOR\")]}),\n",
    "    (\"The coffee in the cup was a rich, mahogany brown.\", {\"entities\": [(43, 48, \"COLOR\")]}),\n",
    "    (\"The curtains in the room are a soft shade of beige.\", {\"entities\": [(45, 50, \"COLOR\")]}),\n",
    "    (\"The car's paint was a shiny metallic silver.\", {\"entities\": [(37, 43, \"COLOR\")]}),\n",
    "    (\"The roses in the garden are a deep, velvety red.\", {\"entities\": [(44, 47, \"COLOR\")]}),\n",
    "    (\"The umbrella was a cheerful shade of yellow.\", {\"entities\": [(37, 43, \"COLOR\")]}),\n",
    "    (\"His eyes sparkled with a bright emerald green.\", {\"entities\": [(40, 45, \"COLOR\")]}),\n",
    "    (\"The room was painted a soothing pale blue.\", {\"entities\": [(37, 41, \"COLOR\")]}),\n",
    "    (\"The butterfly had wings with intricate patterns of black and orange.\", {\"entities\": [(51, 56, \"COLOR\"), (61, 67, \"COLOR\")]}),\n",
    "    (\"The sea is a stunning azure blue.\", {\"entities\": [(28, 32, \"COLOR\")]}),\n",
    "    (\"The car's interior is a luxurious shade of cream.\", {\"entities\": [(43, 48, \"COLOR\")]}),\n",
    "    (\"The ripe strawberries are a deep crimson red.\", {\"entities\": [(41, 44, \"COLOR\")]}),\n",
    "]\n"
   ]
  },
  {
   "cell_type": "code",
   "execution_count": 3,
   "metadata": {},
   "outputs": [],
   "source": [
    "nlp_ner = spacy.load(\"en_core_web_sm\")\n",
    "ner_tagger = nlp_ner.get_pipe(\"ner\")\n",
    "\n",
    "tags=[\"COLOR\"]\n",
    "for tag in tags:\n",
    "    ner_tagger.add_label(tag)\n",
    "other_pipes = [pipe for pipe in nlp_ner.pipe_names if pipe != 'ner']\n",
    "with nlp_ner.disable_pipes(*other_pipes):\n",
    "    optimizer2 = nlp_ner.create_optimizer()\n",
    "    for i in range(10):\n",
    "        random.shuffle(TRAIN_DATA2)\n",
    "        for text, annotation in TRAIN_DATA2:\n",
    "            doc = nlp_ner.make_doc(text)\n",
    "            example = Example.from_dict(doc, annotation)\n",
    "            nlp_ner.update([example], sgd=optimizer2)\n"
   ]
  },
  {
   "cell_type": "code",
   "execution_count": 6,
   "metadata": {},
   "outputs": [
    {
     "name": "stdout",
     "output_type": "stream",
     "text": [
      "The grass is green\n",
      "('green', 'COLOR')\n"
     ]
    }
   ],
   "source": [
    "doc_ner = nlp_ner(\"The grass is green\")\n",
    "print(doc_ner)\n",
    "for ent in doc_ner.ents:\n",
    "    print((ent.text, ent.label_))"
   ]
  }
 ],
 "metadata": {
  "kernelspec": {
   "display_name": "Python 3",
   "language": "python",
   "name": "python3"
  },
  "language_info": {
   "codemirror_mode": {
    "name": "ipython",
    "version": 3
   },
   "file_extension": ".py",
   "mimetype": "text/x-python",
   "name": "python",
   "nbconvert_exporter": "python",
   "pygments_lexer": "ipython3",
   "version": "3.11.4"
  }
 },
 "nbformat": 4,
 "nbformat_minor": 2
}
