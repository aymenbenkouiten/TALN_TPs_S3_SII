{
 "cells": [
  {
   "cell_type": "code",
   "execution_count": 1,
   "metadata": {},
   "outputs": [],
   "source": [
    "import spacy\n",
    "from nltk.stem import SnowballStemmer\n",
    "from spacy.language import Language\n",
    "from collections import Counter"
   ]
  },
  {
   "cell_type": "code",
   "execution_count": 2,
   "metadata": {},
   "outputs": [],
   "source": [
    "nlp = spacy.load(\"en_core_web_sm\")"
   ]
  },
  {
   "cell_type": "code",
   "execution_count": 3,
   "metadata": {},
   "outputs": [
    {
     "data": {
      "text/plain": [
       "<function __main__.stemming_component(doc)>"
      ]
     },
     "execution_count": 3,
     "metadata": {},
     "output_type": "execute_result"
    }
   ],
   "source": [
    "stemmer = SnowballStemmer('english')\n",
    "@Language.component(\"stemming\")\n",
    "def stemming_component(doc):\n",
    "    stemmed_tokens = [stemmer.stem(token.text) for token in doc]\n",
    "    return spacy.tokens.Doc(doc.vocab, words=stemmed_tokens)\n",
    "nlp.add_pipe(\"stemming\", after=\"tagger\")"
   ]
  },
  {
   "cell_type": "code",
   "execution_count": 4,
   "metadata": {},
   "outputs": [],
   "source": [
    "def lowercase(text):\n",
    "    doc = nlp(text)\n",
    "    new_text = [token.text.lower() for token in doc]\n",
    "    return \" \".join(new_text)"
   ]
  },
  {
   "cell_type": "code",
   "execution_count": 5,
   "metadata": {},
   "outputs": [],
   "source": [
    "def remove_punct(text):\n",
    "    doc = nlp(text)\n",
    "    new_text = [token.text for token in doc if not token.is_punct]\n",
    "    return \" \".join(new_text)"
   ]
  },
  {
   "cell_type": "code",
   "execution_count": 6,
   "metadata": {},
   "outputs": [],
   "source": [
    "def remove_stop(text):\n",
    "    doc = nlp(text)\n",
    "    new_text = [token.text for token in doc if not token.is_stop]\n",
    "    return \" \".join(new_text)"
   ]
  },
  {
   "cell_type": "code",
   "execution_count": 7,
   "metadata": {},
   "outputs": [],
   "source": [
    "def remove_frequent(text):\n",
    "    doc = nlp(text)\n",
    "    word_counts = Counter(token.text for token in doc)\n",
    "    new_text = [token.text for token in doc if word_counts[token.text]<=5]\n",
    "    return \" \".join(new_text)"
   ]
  },
  {
   "cell_type": "code",
   "execution_count": 8,
   "metadata": {},
   "outputs": [],
   "source": [
    "def remove_rare(text):\n",
    "    doc = nlp(text)\n",
    "    word_counts = Counter(token.text for token in doc)\n",
    "    new_text = [token.text for token in doc if word_counts[token.text]>1]\n",
    "    return \" \".join(new_text)"
   ]
  },
  {
   "cell_type": "code",
   "execution_count": 9,
   "metadata": {},
   "outputs": [],
   "source": [
    "def lemmatization(text):\n",
    "    doc = nlp(text)\n",
    "    new_text = [token.lemma_ for token in doc]\n",
    "    return \" \".join(new_text)"
   ]
  },
  {
   "cell_type": "code",
   "execution_count": 10,
   "metadata": {},
   "outputs": [],
   "source": [
    "def preprocessing(text):\n",
    "    text = lowercase(text)\n",
    "    text = remove_punct(text)\n",
    "    text = remove_stop(text)\n",
    "    text = remove_frequent(text)\n",
    "    text = remove_rare(text)\n",
    "    text = lemmatization(text)\n",
    "    return text"
   ]
  },
  {
   "cell_type": "code",
   "execution_count": 11,
   "metadata": {},
   "outputs": [
    {
     "name": "stderr",
     "output_type": "stream",
     "text": [
      "c:\\Python311\\Lib\\site-packages\\spacy\\pipeline\\lemmatizer.py:211: UserWarning: [W108] The rule-based lemmatizer did not find POS annotation for one or more tokens. Check that your pipeline includes components that assign token.pos, typically 'tagger'+'attribute_ruler' or 'morphologizer'.\n",
      "  warnings.warn(Warnings.W108)\n"
     ]
    },
    {
     "name": "stdout",
     "output_type": "stream",
     "text": [
      "heart bustl citi amidst hidden oasi tranquil place time life seren oasi green provid soul moment solac \n",
      "\n",
      "      like leav time hidden find love life reflect world \n",
      "\n",
      "      tranquil pond surfac like leav surfac bridg pond bridg love \n",
      "\n",
      "      flower bloom gather natur air bloom flower like \n",
      "\n",
      "      air gather soul find green reflect \n",
      "\n",
      "      natur provid solac bustl world amidst green seren hidden oasi time place natur world find moment heart citi\n"
     ]
    }
   ],
   "source": [
    "text = \"\"\"In the heart of the bustling city, amidst the towering skyscrapers and the constant hum of traffic, there exists a hidden oasis of tranquility. It's a place where time seems to slow down, where the chaos of urban life gives way to a sense of serenity. This oasis is a lush and sprawling park, a green sanctuary that provides respite to weary souls seeking a moment of solace.\n",
    "\n",
    "As you enter the park, you're greeted by a canopy of ancient trees, their branches reaching out like wise elders offering shade and wisdom. The leaves rustle gently in the breeze, whispering secrets of a time long gone. A network of meandering pathways winds through the park, inviting you to explore its hidden corners. Along these paths, you'll find benches, weathered and well-loved, where people of all walks of life have sat to reflect, read, or simply watch the world go by.\n",
    "\n",
    "In the center of the park lies a tranquil pond, its surface mirrored like a polished glass. Ducks glide gracefully across the water, leaving ripples in their wake, while koi fish swim lazily beneath the surface. Nearby, a quaint bridge arches over the pond, connecting one side of the park to the other. The bridge has seen countless couples holding hands, their love stories interwoven with the park's history.\n",
    "\n",
    "Flowers of every color bloom in vibrant clusters, painting the landscape with their brilliance. Bees buzz in the fragrant gardens, gathering nectar for their hives. Birds sing melodious tunes from the treetops, their songs a soothing backdrop to the symphony of nature. The air is alive with the scent of blooming flowers, a sweet and delicate fragrance that envelopes you like a warm embrace.\n",
    "\n",
    "Children's laughter rings through the air as they chase butterflies, their eyes filled with wonder at the magic of the park. Families gather for picnics on the grass, spreading out blankets and sharing meals. Friends meet for afternoon strolls, their conversations a chorus of camaraderie. Even solitary souls find comfort in the solitude of this green haven, where they can lose themselves in thought and reflection.\n",
    "\n",
    "The park is a testament to the enduring power of nature to provide solace and beauty in the midst of a bustling world. It stands as a reminder that amidst the concrete and steel, there is always room for the green and the serene. In this hidden oasis, time takes on a different meaning, and the worries of the day seem to fade into the background. It's a place where one can pause, breathe, and reconnect with the natural world, finding a moment of peace in the heart of the city.\"\"\"\n",
    "text = preprocessing(text)\n",
    "print(text)"
   ]
  }
 ],
 "metadata": {
  "kernelspec": {
   "display_name": "Python 3",
   "language": "python",
   "name": "python3"
  },
  "language_info": {
   "codemirror_mode": {
    "name": "ipython",
    "version": 3
   },
   "file_extension": ".py",
   "mimetype": "text/x-python",
   "name": "python",
   "nbconvert_exporter": "python",
   "pygments_lexer": "ipython3",
   "version": "3.11.4"
  }
 },
 "nbformat": 4,
 "nbformat_minor": 2
}
