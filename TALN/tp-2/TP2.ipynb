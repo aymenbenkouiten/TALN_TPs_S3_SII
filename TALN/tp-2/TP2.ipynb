{
 "cells": [
  {
   "cell_type": "code",
   "execution_count": 1,
   "metadata": {},
   "outputs": [
    {
     "name": "stderr",
     "output_type": "stream",
     "text": [
      "[nltk_data] Downloading package reuters to\n",
      "[nltk_data]     C:\\Users\\della\\AppData\\Roaming\\nltk_data...\n",
      "[nltk_data]   Package reuters is already up-to-date!\n"
     ]
    },
    {
     "data": {
      "text/plain": [
       "True"
      ]
     },
     "execution_count": 1,
     "metadata": {},
     "output_type": "execute_result"
    }
   ],
   "source": [
    "import pandas as pd\n",
    "from prettytable import PrettyTable\n",
    "import gensim\n",
    "from gensim import corpora\n",
    "from gensim.models import TfidfModel, Phrases\n",
    "import nltk\n",
    "from nltk.corpus import reuters\n",
    "import spacy\n",
    "\n",
    "nltk.download('reuters')"
   ]
  },
  {
   "cell_type": "code",
   "execution_count": 2,
   "metadata": {},
   "outputs": [],
   "source": [
    "nlp = spacy.load(\"en_core_web_sm\")\n",
    "corpus = reuters.sents(categories=[\"yen\"])"
   ]
  },
  {
   "cell_type": "code",
   "execution_count": 3,
   "metadata": {},
   "outputs": [],
   "source": [
    "# Convert the corpus to a list of sentences\n",
    "example_text = [\" \".join(sent) for sent in corpus]"
   ]
  },
  {
   "cell_type": "code",
   "execution_count": 4,
   "metadata": {},
   "outputs": [],
   "source": [
    "texts = []\n",
    "for document in example_text:\n",
    "    doc = nlp(document)\n",
    "    text = [token.lemma_ for token in doc if not token.is_stop and not token.is_punct]\n",
    "    texts.append(text)"
   ]
  },
  {
   "cell_type": "code",
   "execution_count": 5,
   "metadata": {},
   "outputs": [],
   "source": [
    "# Créez un dictionnaire (vocabulaire) à partir de la liste de listes de mots \"texts\".\n",
    "dictionary = corpora.Dictionary(texts)\n",
    "#( rep vict de bag of words )Transformez chaque texte en une représentation BoW (Bag of Words) en utilisant le dictionnaire.\n",
    "corpus_bow = [dictionary.doc2bow(text) for text in texts]"
   ]
  },
  {
   "cell_type": "code",
   "execution_count": 6,
   "metadata": {},
   "outputs": [],
   "source": [
    "# Créez un modèle TF-IDF à partir du corpus BoW.\n",
    "tfidf_model = TfidfModel(corpus_bow)\n",
    "# Transformez le corpus BoW en un corpus TF-IDF.\n",
    "corpus_tfidf = tfidf_model[corpus_bow]"
   ]
  },
  {
   "cell_type": "code",
   "execution_count": 7,
   "metadata": {},
   "outputs": [],
   "source": [
    "# Créez un modèle de détection de bigrammes à partir de la liste de listes de mots \"texts\".\n",
    "bigram = Phrases(texts)\n",
    "texts_with_bigrams = [bigram[line] for line in texts]\n",
    "\n",
    "# Créez un modèle de détection de trigrammes à partir de la liste de listes de mots \"texts_with_bigrams\".\n",
    "trigram = Phrases(texts_with_bigrams)\n",
    "texts_with_trigrams = [trigram[line] for line in texts_with_bigrams]"
   ]
  },
  {
   "cell_type": "code",
   "execution_count": 9,
   "metadata": {},
   "outputs": [],
   "source": [
    "# Collect bigrams and trigrams\n",
    "bigrams_list = []\n",
    "trigrams_list = []\n",
    "\n",
    "for text in texts_with_bigrams:\n",
    "    for word in text:\n",
    "        if word.count(\"_\") == 1:\n",
    "            bigrams_list.append(word)\n",
    "\n",
    "for text in texts_with_trigrams:\n",
    "    for word in text:\n",
    "        if word.count(\"_\") == 2:\n",
    "            trigrams_list.append(word)"
   ]
  },
  {
   "cell_type": "markdown",
   "metadata": {},
   "source": [
    "AFFICHAGE DES BIGRMAS & TRIGRAMS"
   ]
  },
  {
   "cell_type": "code",
   "execution_count": 11,
   "metadata": {},
   "outputs": [
    {
     "name": "stdout",
     "output_type": "stream",
     "text": [
      "\n",
      "Bigrams (Total: 705):\n",
      "+------------------+\n",
      "|     Bigrams      |\n",
      "+------------------+\n",
      "|    Bank_Japan    |\n",
      "|   central_bank   |\n",
      "|       U_s        |\n",
      "|     New_York     |\n",
      "|       G_7        |\n",
      "|   Group_Seven    |\n",
      "|       G_7        |\n",
      "| major_industrial |\n",
      "|  current_level   |\n",
      "|   present_rate   |\n",
      "+------------------+\n",
      "\n",
      "Trigrams (Total: 49):\n",
      "+-------------------------+\n",
      "|         Trigrams        |\n",
      "+-------------------------+\n",
      "| major_industrial_nation |\n",
      "|  Britain_Canada_France  |\n",
      "| major_industrial_nation |\n",
      "|  Britain_Canada_France  |\n",
      "| major_industrial_nation |\n",
      "|       fall_150_yen      |\n",
      "|       fall_150_yen      |\n",
      "|  Britain_Canada_France  |\n",
      "|       fall_150_yen      |\n",
      "| stabilize_exchange_rate |\n",
      "+-------------------------+\n"
     ]
    }
   ],
   "source": [
    "# Create PrettyTable for bigrams and trigrams\n",
    "bigrams_table = PrettyTable(['Bigrams'])\n",
    "for bigram in bigrams_list[:10]:\n",
    "    bigrams_table.add_row([bigram])\n",
    "\n",
    "trigrams_table = PrettyTable(['Trigrams'])\n",
    "for trigram in trigrams_list[:10]:\n",
    "    trigrams_table.add_row([trigram])\n",
    "\n",
    "# Set the border to True for both tables\n",
    "bigrams_table.border = True\n",
    "trigrams_table.border = True\n",
    "\n",
    "# Calculate and print the total number of bigrams and trigrams\n",
    "total_bigrams = len(bigrams_list)\n",
    "total_trigrams = len(trigrams_list)\n",
    "\n",
    "# Display the tables with the total counts\n",
    "print(\"\\nBigrams (Total: {}):\".format(total_bigrams))\n",
    "print(bigrams_table)\n",
    "\n",
    "print(\"\\nTrigrams (Total: {}):\".format(total_trigrams))\n",
    "print(trigrams_table)\n"
   ]
  }
 ],
 "metadata": {
  "kernelspec": {
   "display_name": "Python 3",
   "language": "python",
   "name": "python3"
  },
  "language_info": {
   "codemirror_mode": {
    "name": "ipython",
    "version": 3
   },
   "file_extension": ".py",
   "mimetype": "text/x-python",
   "name": "python",
   "nbconvert_exporter": "python",
   "pygments_lexer": "ipython3",
   "version": "3.9.1"
  }
 },
 "nbformat": 4,
 "nbformat_minor": 2
}
